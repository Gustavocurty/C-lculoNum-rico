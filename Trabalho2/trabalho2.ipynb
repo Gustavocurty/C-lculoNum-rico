{
 "cells": [
  {
   "cell_type": "markdown",
   "metadata": {},
   "source": [
    "# Trabalho 2 # \n",
    "Alunos: \n",
    "    - Gustavo de Souza Curty\n",
    "    - Matheus Iack\n",
    "    - Matheus Marendino"
   ]
  },
  {
   "cell_type": "markdown",
   "metadata": {},
   "source": [
    "Questão resolvida abaixo: Calcule a aproximação para f(1.25) usando um polinôm,io interpolador de grau 2 de Lagrange.\n",
    "Sabendo que f(1.25)=1.5365, e calcule o desvio relativo percentual"
   ]
  },
  {
   "cell_type": "code",
   "execution_count": 61,
   "metadata": {},
   "outputs": [
    {
     "name": "stdout",
     "output_type": "stream",
     "text": [
      "O valor aproximado de P(x) = 1.53971\n",
      "O Desvio Relativo Percentual Drp(%) = 0.21%\n"
     ]
    }
   ],
   "source": [
    "# Queremos encontrar a aproximação P(x) e o desvio relativo percentual\n",
    "# Deu erro ao tentar formatar o valor de L L[cont] = \"{:.5f}\".format(multCima / multBaixo)\n",
    "# A função abs() garante que seja sempre positivo (módulo)\n",
    "\n",
    "P = 0\n",
    "grau = 2\n",
    "F = 1.5365\n",
    "x = 1.25\n",
    "\n",
    "valoresX = [ 1.2, 2.3, 4.5 ]\n",
    "valoresF = [1.5011, 2.4003, 4.5111]\n",
    "\n",
    "\n",
    "for cont in range(grau+1):\n",
    "    multCima = 1\n",
    "    multBaixo = 1\n",
    "    \n",
    "    L = [0]*(grau + 1)\n",
    "    \n",
    "    for i in range(len(valoresX)):\n",
    "        if(cont != i):\n",
    "            multCima = multCima*(x - valoresX[i])\n",
    "            # print(multCima)\n",
    "\n",
    "            multBaixo = multBaixo*(valoresX[cont] - valoresX[i])\n",
    "            # print(multBaixo)\n",
    "\n",
    "\n",
    "    L[cont] = (multCima / multBaixo)\n",
    "    P += L[cont]*valoresF[cont]\n",
    "\n",
    "print(f'O valor aproximado de P(x) = {\"{:.5f}\".format(P)}')\n",
    "\n",
    "DRP = (abs(F - P) / F)*100\n",
    "print(f'O Desvio Relativo Percentual Drp(%) = {\"{:.2f}\".format(DRP)}%')\n",
    "\n",
    "\n"
   ]
  }
 ],
 "metadata": {
  "kernelspec": {
   "display_name": "Python 3",
   "language": "python",
   "name": "python3"
  },
  "language_info": {
   "codemirror_mode": {
    "name": "ipython",
    "version": 3
   },
   "file_extension": ".py",
   "mimetype": "text/x-python",
   "name": "python",
   "nbconvert_exporter": "python",
   "pygments_lexer": "ipython3",
   "version": "3.11.6"
  }
 },
 "nbformat": 4,
 "nbformat_minor": 2
}
