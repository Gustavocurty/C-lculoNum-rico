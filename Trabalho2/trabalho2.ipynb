{
 "cells": [
  {
   "cell_type": "markdown",
   "metadata": {},
   "source": [
    "# Trabalho 2 de Cálculo Numérico #\n",
    "Alunos: \n",
    "    - Gustavo de Souza Curty\n",
    "    - Matheus Iack\n",
    "    - Matheus Marendino"
   ]
  },
  {
   "cell_type": "markdown",
   "metadata": {},
   "source": [
    "Questão resolvida abaixo: Calcule a aproximação para f(1.25) usando um polinômio interpolador de grau 2 de Lagrange.\n",
    "Sabendo que f(1.25)=1.5365, e calcule o desvio relativo percentual"
   ]
  },
  {
   "cell_type": "code",
   "execution_count": 4,
   "metadata": {},
   "outputs": [
    {
     "name": "stdout",
     "output_type": "stream",
     "text": [
      "L[0] = 0.13333\n",
      "L[1] = 0.86667\n",
      "O valor aproximado de f(0.3) é P(x) = 2.67389\n",
      "O Desvio Absoluto DA = 0.55177\n",
      "O Desvio Relativo Percentual Drp(%) = 26.00%\n"
     ]
    }
   ],
   "source": [
    "# Queremos encontrar a aproximação P(x) e o desvio relativo percentual\n",
    "# A função abs() garante que seja sempre positivo (módulo)\n",
    "P = 0\n",
    "\n",
    "# Dados da questão:\n",
    "grau = 1\n",
    "F = 2.12212\n",
    "x = 0.3\n",
    "\n",
    "# Considere\n",
    "valoresX = [ -1, 0.5]\n",
    "valoresF = [-0.86466, 3.21828]\n",
    "\n",
    "\n",
    "for cont in range(grau+1):\n",
    "    multCima = 1\n",
    "    multBaixo = 1\n",
    "    \n",
    "    L = [0]*(grau + 1)\n",
    "    \n",
    "    for i in range(len(valoresX)):\n",
    "        if(cont != i):\n",
    "            multCima = multCima*(x - valoresX[i])\n",
    "            # print(multCima)\n",
    "\n",
    "            multBaixo = multBaixo*(valoresX[cont] - valoresX[i])\n",
    "            # print(multBaixo)\n",
    "\n",
    "\n",
    "    L[cont] = (multCima / multBaixo)\n",
    "    P += L[cont]*valoresF[cont]\n",
    "\n",
    "    print(f\"L[{cont}] = {'{:.5f}'.format(L[cont])}\")\n",
    "\n",
    "print(f'O valor aproximado de f({x}) é P(x) = {\"{:.5f}\".format(P)}')\n",
    "\n",
    "# Desvio Absoluto\n",
    "DA = (abs(F - P))\n",
    "print(f'O Desvio Absoluto DA = {\"{:.5f}\".format(DA)}')\n",
    "\n",
    "# Desvio Relativo Percentual\n",
    "DRP = (abs(F - P) / F)*100\n",
    "print(f'O Desvio Relativo Percentual Drp(%) = {\"{:.2f}\".format(DRP)}%')\n",
    "\n",
    "\n"
   ]
  }
 ],
 "metadata": {
  "kernelspec": {
   "display_name": "Python 3",
   "language": "python",
   "name": "python3"
  },
  "language_info": {
   "codemirror_mode": {
    "name": "ipython",
    "version": 3
   },
   "file_extension": ".py",
   "mimetype": "text/x-python",
   "name": "python",
   "nbconvert_exporter": "python",
   "pygments_lexer": "ipython3",
   "version": "3.11.6"
  }
 },
 "nbformat": 4,
 "nbformat_minor": 2
}
