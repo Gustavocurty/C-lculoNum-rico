{
 "cells": [
  {
   "cell_type": "code",
   "execution_count": null,
   "metadata": {},
   "outputs": [],
   "source": [
    "from math import exp\n",
    "\n",
    "xo = 1\n",
    "h = [0.01]\n",
    "\n",
    "def f(x):\n",
    "    y = (x*exp(-2*x))\n",
    "    return y\n",
    "\n",
    "# Derivada primeira da f(x)\n",
    "def F1(n):\n",
    "    y = (diff(f(x), x, 1))   # F'(xo)\n",
    "    res = y.subs(x, n)\n",
    "    return res\n",
    "\n",
    "for i in range(len(h)):\n",
    "    F1cent = ( (f(xo + h[i]) - f(xo - h[i])) / (2*h[i]) )\n",
    "    print(f\"A aproximação de f'(1) pela fórmula centrada eh f'(x) = {'{:.6f}'.format(F1cent)}\")"
   ]
  }
 ],
 "metadata": {
  "language_info": {
   "name": "python"
  }
 },
 "nbformat": 4,
 "nbformat_minor": 2
}
