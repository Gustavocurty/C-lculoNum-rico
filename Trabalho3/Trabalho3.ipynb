{
 "cells": [
  {
   "cell_type": "markdown",
   "metadata": {},
   "source": [
    "a) \n",
    "    1. Diferença Avançada -->\n",
    "    Questão resolvida abaixo: Considere a função f(x) = ln(x) use a fórmulada diferença avançada para estimar f'(1.8) considerando h = 0.1 e h 0.01. Calcular o Desvio relativo percentual (DRP) e a cota máxima de erro de truncamento para os dois problemas. "
   ]
  },
  {
   "cell_type": "markdown",
   "metadata": {},
   "source": []
  },
  {
   "cell_type": "code",
   "execution_count": 24,
   "metadata": {},
   "outputs": [
    {
     "name": "stdout",
     "output_type": "stream",
     "text": [
      "A aproximação de f'(1.8) com h = 0.1 pela diferença avançada é 0.540672\n",
      "O desvio absoluto DA = 0.014883\n",
      "O desvio relativo percentual DRP(%) = 2.68%\n",
      "O erro de truncamento para Et(1.8) = 0.015432\n",
      "O erro de truncamento para Et(1.90) = 0.013850\n",
      "A cota máxima do erro de truncamento é Et[1.8] = 0.015432\n",
      "\n",
      "\n",
      "A aproximação de f'(1.8) com h = 0.01 pela diferença avançada é 0.554018\n",
      "O desvio absoluto DA = 0.001538\n",
      "O desvio relativo percentual DRP(%) = 0.28%\n",
      "O erro de truncamento para Et(1.8) = 0.001543\n",
      "O erro de truncamento para Et(1.81) = 0.001526\n",
      "A cota máxima do erro de truncamento é Et[1.8] = 0.001543\n",
      "\n",
      "\n"
     ]
    }
   ],
   "source": [
    "# Favan é a fórmula da diferença avançada\n",
    "# F1 é a derivada primeira da função f(xo) = ln(xo)\n",
    "# F2 é a derivada segunda da função f(xo) = ln(xo)\n",
    "# F2h ........ f(xo + h) = ln(xo + h)\n",
    "\n",
    "from sympy import diff, ln, Symbol\n",
    "x = Symbol('x')\n",
    "\n",
    "# Dados da questão\n",
    "xo = 1.8\n",
    "h = [0.1, 0.01]\n",
    "\n",
    "def f(x):\n",
    "    y = ln(x)\n",
    "    return y\n",
    "\n",
    "# Derivada primeira da f(x)\n",
    "def F1(n):\n",
    "    y = (diff(f(x), x, 1))   # F'(xo)\n",
    "    res = y.subs(x, n)\n",
    "    return res\n",
    "\n",
    "# Derivada segunda da f(x)\n",
    "def F2(n):\n",
    "    y = (diff(f(x), x, 2))   # F\"(xo)\n",
    "    res = y.subs(x, n)\n",
    "    return res\n",
    "\n",
    "# Resolução com método diferença avançada\n",
    "for i in range(len(h)):\n",
    "    FxoH = f(xo + h[i])\n",
    "    Fxo = f(xo)\n",
    "\n",
    "    # Fórmula diferneça avançada\n",
    "    Favan = (FxoH - Fxo) / h[i]            \n",
    "    print(f\"A aproximação de f'(1.8) com h = {h[i]} pela diferença avançada é {'{:.6f}'.format(Favan)}\")\n",
    "\n",
    "    # Desvio Absoluto\n",
    "    DA = abs(F1(xo) - Favan)               \n",
    "    print(f\"O desvio absoluto DA = {'{:.6f}'.format(DA)}\")\n",
    "\n",
    "    # Desvio relativo percentual\n",
    "    DRP = abs(F1(xo) - Favan)*100/F1(xo)   \n",
    "    print(f\"O desvio relativo percentual DRP(%) = {'{:.2f}'.format(DRP)}%\")\n",
    "\n",
    "    # Erro de truncamento Et(1.8)\n",
    "    ErroT = abs(h[i]*F2(xo))/2             \n",
    "    print(f\"O erro de truncamento para Et({xo}) = {'{:.6f}'.format(ErroT)}\")\n",
    "\n",
    "    F2h = F2(xo + h[i])                    # F\"(xo + h)\n",
    "    ErroTh = abs(h[i]*F2h)/2               # Erro de truncamento Et(1.9)\n",
    "    print(f\"O erro de truncamento para Et({'{:.2f}'.format(xo + h[i])}) = {'{:.6f}'.format(ErroTh)}\")\n",
    "\n",
    "    if(ErroT > ErroTh):\n",
    "        print(f\"A cota máxima do erro de truncamento é Et[{xo}] = {'{:.6f}'.format(ErroT)}\")\n",
    "    else:\n",
    "        print(f\"A cota máxima do erro de truncamento é Et({'{:.2f}'.format(xo + h[i])}) = {'{:.6f}'.format(ErroTh)}\")\n",
    "\n",
    "    print('\\n')"
   ]
  },
  {
   "cell_type": "markdown",
   "metadata": {},
   "source": [
    "a) \n",
    "    2. Diferença Centrada -->\n",
    "    Indique a melhor aproximação para a f´(1), da função f(x) = 2*e^(-2*x) para h = 0,01, usando a fórmula de três pontos. Estime os desvios absoluto e relativo percentual, bem como a cota máxima do erro de truncamento dessa aproximação. Usar 6 algarismos após a vírgula\n"
   ]
  },
  {
   "cell_type": "code",
   "execution_count": 32,
   "metadata": {},
   "outputs": [
    {
     "name": "stdout",
     "output_type": "stream",
     "text": [
      "A aproximação de f'(1) pela fórmula centrada eh f'(x) = -0.301182\n"
     ]
    },
    {
     "ename": "TypeError",
     "evalue": "unsupported operand type(s) for -: 'function' and 'float'",
     "output_type": "error",
     "traceback": [
      "\u001b[1;31m---------------------------------------------------------------------------\u001b[0m",
      "\u001b[1;31mTypeError\u001b[0m                                 Traceback (most recent call last)",
      "\u001b[1;32mc:\\Users\\gutoc\\OneDrive\\Documentos\\Facool 2023.1\\CalcNum\\Trabalho3\\Trabalho3.ipynb Cell 5\u001b[0m line \u001b[0;36m2\n\u001b[0;32m     <a href='vscode-notebook-cell:/c%3A/Users/gutoc/OneDrive/Documentos/Facool%202023.1/CalcNum/Trabalho3/Trabalho3.ipynb#X16sZmlsZQ%3D%3D?line=21'>22</a>\u001b[0m r \u001b[39m=\u001b[39m F1         \n\u001b[0;32m     <a href='vscode-notebook-cell:/c%3A/Users/gutoc/OneDrive/Documentos/Facool%202023.1/CalcNum/Trabalho3/Trabalho3.ipynb#X16sZmlsZQ%3D%3D?line=23'>24</a>\u001b[0m \u001b[39m# Desvio Absoluto\u001b[39;00m\n\u001b[1;32m---> <a href='vscode-notebook-cell:/c%3A/Users/gutoc/OneDrive/Documentos/Facool%202023.1/CalcNum/Trabalho3/Trabalho3.ipynb#X16sZmlsZQ%3D%3D?line=24'>25</a>\u001b[0m DA \u001b[39m=\u001b[39m \u001b[39mabs\u001b[39m(r \u001b[39m-\u001b[39;49m F1cent)               \n\u001b[0;32m     <a href='vscode-notebook-cell:/c%3A/Users/gutoc/OneDrive/Documentos/Facool%202023.1/CalcNum/Trabalho3/Trabalho3.ipynb#X16sZmlsZQ%3D%3D?line=25'>26</a>\u001b[0m \u001b[39mprint\u001b[39m(\u001b[39mf\u001b[39m\u001b[39m\"\u001b[39m\u001b[39mO desvio absoluto DA = \u001b[39m\u001b[39m{\u001b[39;00m\u001b[39m'\u001b[39m\u001b[39m{:.6f}\u001b[39;00m\u001b[39m'\u001b[39m\u001b[39m.\u001b[39mformat(DA)\u001b[39m}\u001b[39;00m\u001b[39m\"\u001b[39m)\n\u001b[0;32m     <a href='vscode-notebook-cell:/c%3A/Users/gutoc/OneDrive/Documentos/Facool%202023.1/CalcNum/Trabalho3/Trabalho3.ipynb#X16sZmlsZQ%3D%3D?line=27'>28</a>\u001b[0m \u001b[39m# Desvio relativo percentual\u001b[39;00m\n",
      "\u001b[1;31mTypeError\u001b[0m: unsupported operand type(s) for -: 'function' and 'float'"
     ]
    }
   ],
   "source": [
    "from math import *\n",
    "x = Symbol('x')\n",
    "\n",
    "xo = 1\n",
    "h = [0.01]\n",
    "\n",
    "def f(x):\n",
    "    y =( x*cos(x) )\n",
    "    return y\n",
    "\n",
    "# Derivada primeira da f(x)\n",
    "def F1(n):\n",
    "    y = (diff(f(x), x))   # F'(xo)\n",
    "    res = y.subs(x, n)\n",
    "    return res\n",
    "\n",
    "for i in range(len(h)):\n",
    "    F1cent = ( (f(xo + h[i]) - f(xo - h[i])) / (2*h[i]) )\n",
    "    print(f\"A aproximação de f'(1) pela fórmula centrada eh f'(x) = {'{:.6f}'.format(F1cent)}\")\n",
    "\n",
    "    # Cálculo da referência\n",
    "    r = F1         \n",
    "    \n",
    "    # Desvio Absoluto\n",
    "    DA = abs(r - F1cent)               \n",
    "    print(f\"O desvio absoluto DA = {'{:.6f}'.format(DA)}\")\n",
    "\n",
    "    # Desvio relativo percentual\n",
    "    DRP = abs(r - F1cent)*100/F1(xo)   \n",
    "    print(f\"O desvio relativo percentual DRP(%) = {'{:.2f}'.format(DRP)}%\")\n"
   ]
  }
 ],
 "metadata": {
  "kernelspec": {
   "display_name": "Python 3",
   "language": "python",
   "name": "python3"
  },
  "language_info": {
   "codemirror_mode": {
    "name": "ipython",
    "version": 3
   },
   "file_extension": ".py",
   "mimetype": "text/x-python",
   "name": "python",
   "nbconvert_exporter": "python",
   "pygments_lexer": "ipython3",
   "version": "3.11.6"
  }
 },
 "nbformat": 4,
 "nbformat_minor": 2
}
