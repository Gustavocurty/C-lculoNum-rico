{
 "cells": [
  {
   "cell_type": "markdown",
   "metadata": {},
   "source": [
    "# Trabalho 3 de Cálculo Numérico #\n",
    "Alunos: \n",
    "    - Gustavo de Souza Curty\n",
    "    - Matheus Iack\n",
    "    - Matheus Marendino"
   ]
  },
  {
   "cell_type": "markdown",
   "metadata": {},
   "source": [
    "a)  1. Diferença Avançada (feito)\n",
    "    2. Diferença Centrada e Não-Centrada\n",
    "\n",
    "b)  Cálculo de f\"(x0) --> Fórmula única\n",
    "\n",
    "-> Nos dois casos calcular do desvio relativo percentual e cota máxima de erro de truncamento."
   ]
  },
  {
   "cell_type": "markdown",
   "metadata": {},
   "source": [
    "a) \n",
    "    1. Diferença Avançada -->\n",
    "    Questão resolvida abaixo: Considere a função f(x) = ln(x) use a fórmulada diferença avançada para estimar f'(1.8) considerando h = 0.1 e h 0.01. Calcular o Desvio relativo percentual (DRP) e a cota máxima de erro de truncamento para os dois problemas. "
   ]
  },
  {
   "cell_type": "code",
   "execution_count": 47,
   "metadata": {},
   "outputs": [
    {
     "name": "stdout",
     "output_type": "stream",
     "text": [
      "A aproximação de f'(1.8) com h = 0.1 pela diferença avançada é 0.54067\n",
      "O desvio relativo percentual DRP(%) = 2.68%\n",
      "O erro de truncamento para Et(1.8) = 0.01543\n",
      "O erro de truncamento para Et(1.90) = 0.01385\n",
      "A cota máxima do erro de truncamento é Et[1.8] = 0.01543\n",
      "\n",
      "\n",
      "A aproximação de f'(1.8) com h = 0.01 pela diferença avançada é 0.55402\n",
      "O desvio relativo percentual DRP(%) = 0.28%\n",
      "O erro de truncamento para Et(1.8) = 0.00154\n",
      "O erro de truncamento para Et(1.81) = 0.00153\n",
      "A cota máxima do erro de truncamento é Et[1.8] = 0.00154\n",
      "\n",
      "\n"
     ]
    }
   ],
   "source": [
    "# F(x) = ln(x) = math.log(x) \n",
    "# Favan é a fórmula da diferença avançada\n",
    "# F1 é a derivada primeira da função f(xo) = ln(xo)\n",
    "# F2 é a derivada segunda da função f(xo) = ln(xo)\n",
    "# F2h ........ f(xo + h) = ln(xo + h)\n",
    "\n",
    "\n",
    "import math\n",
    "\n",
    "xo = 1.8\n",
    "h = [0.1, 0.01]\n",
    "F1 = 1/xo\n",
    "F2 = -(1/(xo*xo))    # F\"(xo)\n",
    "\n",
    "\n",
    "for i in range(len(h)):\n",
    "    FxoH = math.log(xo + h[i]) \n",
    "    # print(FxoH)\n",
    "    Fxo = math.log(xo)\n",
    "    # print(Fxo) \n",
    "\n",
    "    Favan = (FxoH - Fxo) / h[i]        # Fórmula diferneça avançada\n",
    "    print(f\"A aproximação de f'(1.8) com h = {h[i]} pela diferença avançada é {'{:.5f}'.format(Favan)}\")\n",
    "\n",
    "    DRP = abs(F1 - Favan)*100/F1       # Desvio relativo percentual\n",
    "    print(f\"O desvio relativo percentual DRP(%) = {'{:.2f}'.format(DRP)}%\")\n",
    "\n",
    "    ErroT = abs(h[i]*F2)/2             # Erro de truncamento Et(1.8)\n",
    "    print(f\"O erro de truncamento para Et({xo}) = {'{:.5f}'.format(ErroT)}\")\n",
    "\n",
    "    F2h = -(1/((xo+h[i])*(xo+h[i])))   # F\"(xo + h)\n",
    "    ErroTh = abs(h[i]*F2h)/2           # Erro de truncamento Et(1.9)\n",
    "    print(f\"O erro de truncamento para Et({'{:.2f}'.format(xo + h[i])}) = {'{:.5f}'.format(ErroTh)}\")\n",
    "\n",
    "    if(ErroT > ErroTh):\n",
    "        print(f\"A cota máxima do erro de truncamento é Et[{xo}] = {'{:.5f}'.format(ErroT)}\")\n",
    "    else:\n",
    "        print(f\"A cota máxima do erro de truncamento é Et({'{:.2f}'.format(xo + h[i])}) = {'{:.5f}'.format(ErroTh)}\")\n",
    "\n",
    "    print('\\n')\n",
    "\n",
    "\n"
   ]
  },
  {
   "cell_type": "markdown",
   "metadata": {},
   "source": [
    "a) 2. Diferença Centrada e não-centrada -->\n",
    "    Dada os valores abaixo, aproxime f'(2) considerando a fórmula de 3 ponoscentrada e não centrada para os valores de h1 +-= 0.1 e h2 +-= 0.2"
   ]
  },
  {
   "cell_type": "code",
   "execution_count": null,
   "metadata": {},
   "outputs": [],
   "source": [
    "X = [1.8, 1.9, 2.0, 2.1, 2.2]\n",
    "F = [10.889365, 12.703199, 14.778112, 17.148957, 19.855030]\n",
    "\n"
   ]
  }
 ],
 "metadata": {
  "kernelspec": {
   "display_name": "Python 3",
   "language": "python",
   "name": "python3"
  },
  "language_info": {
   "codemirror_mode": {
    "name": "ipython",
    "version": 3
   },
   "file_extension": ".py",
   "mimetype": "text/x-python",
   "name": "python",
   "nbconvert_exporter": "python",
   "pygments_lexer": "ipython3",
   "version": "3.11.6"
  }
 },
 "nbformat": 4,
 "nbformat_minor": 2
}
